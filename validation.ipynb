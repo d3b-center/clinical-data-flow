{
 "cells": [
  {
   "cell_type": "markdown",
   "metadata": {},
   "source": [
    "# Standard Study Validation\n",
    "\n",
    "Here I will try to validate the rules found here: https://www.notion.so/d3b/Standard-Study-Validation-935bc971bd1141f0a3d76a2a9caca461. "
   ]
  },
  {
   "cell_type": "code",
   "execution_count": 76,
   "metadata": {},
   "outputs": [],
   "source": [
    "from collections import Counter, defaultdict\n",
    "from pprint import pprint\n",
    "from kf_lib_data_ingest.common.io import read_df\n",
    "\n",
    "import pandas as pd\n",
    "import networkx as nx\n",
    "import numpy as np\n",
    "import matplotlib.pyplot as plt\n",
    "\n",
    "\n",
    "%matplotlib inline"
   ]
  },
  {
   "cell_type": "code",
   "execution_count": 77,
   "metadata": {},
   "outputs": [],
   "source": [
    "# Load dummy data\n",
    "\n",
    "def load_csv(path):\n",
    "    return pd.read_csv(path, dtype=str)\n",
    "\n",
    "NA = \"\"\n",
    "\n",
    "filenames = ['data1/{}.csv'.format(file) for file in 'pf pg sp sg spf sfp2'.split()]\n",
    "\n",
    "data_files = [read_df(path, encoding=\"utf-8-sig\").replace(\"NA\", NA) for path in filenames]\n",
    "\n",
    "for filename, data_file in zip(filenames, data_files):\n",
    "    data_file.name = filename\n",
    "    \n",
    "pf, pg, sp, sg, spf, spf2 = data_files"
   ]
  },
  {
   "cell_type": "code",
   "execution_count": 103,
   "metadata": {},
   "outputs": [
    {
     "data": {
      "text/html": [
       "<div>\n",
       "<style scoped>\n",
       "    .dataframe tbody tr th:only-of-type {\n",
       "        vertical-align: middle;\n",
       "    }\n",
       "\n",
       "    .dataframe tbody tr th {\n",
       "        vertical-align: top;\n",
       "    }\n",
       "\n",
       "    .dataframe thead th {\n",
       "        text-align: right;\n",
       "    }\n",
       "</style>\n",
       "<table border=\"1\" class=\"dataframe\">\n",
       "  <thead>\n",
       "    <tr style=\"text-align: right;\">\n",
       "      <th></th>\n",
       "      <th>PARTICIPANT|ID</th>\n",
       "      <th>FAMILY|ID</th>\n",
       "    </tr>\n",
       "  </thead>\n",
       "  <tbody>\n",
       "    <tr>\n",
       "      <th>0</th>\n",
       "      <td>P10</td>\n",
       "      <td>F10</td>\n",
       "    </tr>\n",
       "    <tr>\n",
       "      <th>1</th>\n",
       "      <td>P11</td>\n",
       "      <td></td>\n",
       "    </tr>\n",
       "    <tr>\n",
       "      <th>2</th>\n",
       "      <td></td>\n",
       "      <td>F12</td>\n",
       "    </tr>\n",
       "    <tr>\n",
       "      <th>3</th>\n",
       "      <td>P13</td>\n",
       "      <td>F13</td>\n",
       "    </tr>\n",
       "  </tbody>\n",
       "</table>\n",
       "</div>"
      ],
      "text/plain": [
       "  PARTICIPANT|ID FAMILY|ID\n",
       "0            P10       F10\n",
       "1            P11          \n",
       "2                      F12\n",
       "3            P13       F13"
      ]
     },
     "execution_count": 103,
     "metadata": {},
     "output_type": "execute_result"
    }
   ],
   "source": [
    "pf"
   ]
  },
  {
   "cell_type": "code",
   "execution_count": 79,
   "metadata": {},
   "outputs": [
    {
     "data": {
      "text/html": [
       "<div>\n",
       "<style scoped>\n",
       "    .dataframe tbody tr th:only-of-type {\n",
       "        vertical-align: middle;\n",
       "    }\n",
       "\n",
       "    .dataframe tbody tr th {\n",
       "        vertical-align: top;\n",
       "    }\n",
       "\n",
       "    .dataframe thead th {\n",
       "        text-align: right;\n",
       "    }\n",
       "</style>\n",
       "<table border=\"1\" class=\"dataframe\">\n",
       "  <thead>\n",
       "    <tr style=\"text-align: right;\">\n",
       "      <th></th>\n",
       "      <th>PARTICIPANT|ID</th>\n",
       "      <th>GENOMIC_FILE|URL_LIST</th>\n",
       "    </tr>\n",
       "  </thead>\n",
       "  <tbody>\n",
       "    <tr>\n",
       "      <th>0</th>\n",
       "      <td>P4</td>\n",
       "      <td>['foo/s5.txt']</td>\n",
       "    </tr>\n",
       "    <tr>\n",
       "      <th>1</th>\n",
       "      <td>P9</td>\n",
       "      <td>['foo/s9.txt']</td>\n",
       "    </tr>\n",
       "    <tr>\n",
       "      <th>2</th>\n",
       "      <td>P10</td>\n",
       "      <td>['foo/s11.txt']</td>\n",
       "    </tr>\n",
       "  </tbody>\n",
       "</table>\n",
       "</div>"
      ],
      "text/plain": [
       "  PARTICIPANT|ID GENOMIC_FILE|URL_LIST\n",
       "0             P4        ['foo/s5.txt']\n",
       "1             P9        ['foo/s9.txt']\n",
       "2            P10       ['foo/s11.txt']"
      ]
     },
     "execution_count": 79,
     "metadata": {},
     "output_type": "execute_result"
    }
   ],
   "source": [
    "pg"
   ]
  },
  {
   "cell_type": "code",
   "execution_count": 80,
   "metadata": {},
   "outputs": [
    {
     "data": {
      "text/html": [
       "<div>\n",
       "<style scoped>\n",
       "    .dataframe tbody tr th:only-of-type {\n",
       "        vertical-align: middle;\n",
       "    }\n",
       "\n",
       "    .dataframe tbody tr th {\n",
       "        vertical-align: top;\n",
       "    }\n",
       "\n",
       "    .dataframe thead th {\n",
       "        text-align: right;\n",
       "    }\n",
       "</style>\n",
       "<table border=\"1\" class=\"dataframe\">\n",
       "  <thead>\n",
       "    <tr style=\"text-align: right;\">\n",
       "      <th></th>\n",
       "      <th>BIOSPECIMEN|ID</th>\n",
       "      <th>PARTICIPANT|ID</th>\n",
       "    </tr>\n",
       "  </thead>\n",
       "  <tbody>\n",
       "    <tr>\n",
       "      <th>0</th>\n",
       "      <td>S7</td>\n",
       "      <td>P5</td>\n",
       "    </tr>\n",
       "    <tr>\n",
       "      <th>1</th>\n",
       "      <td>S10</td>\n",
       "      <td>P6</td>\n",
       "    </tr>\n",
       "    <tr>\n",
       "      <th>2</th>\n",
       "      <td>S11</td>\n",
       "      <td>P10</td>\n",
       "    </tr>\n",
       "  </tbody>\n",
       "</table>\n",
       "</div>"
      ],
      "text/plain": [
       "  BIOSPECIMEN|ID PARTICIPANT|ID\n",
       "0             S7             P5\n",
       "1            S10             P6\n",
       "2            S11            P10"
      ]
     },
     "execution_count": 80,
     "metadata": {},
     "output_type": "execute_result"
    }
   ],
   "source": [
    "sp"
   ]
  },
  {
   "cell_type": "code",
   "execution_count": 81,
   "metadata": {},
   "outputs": [
    {
     "data": {
      "text/html": [
       "<div>\n",
       "<style scoped>\n",
       "    .dataframe tbody tr th:only-of-type {\n",
       "        vertical-align: middle;\n",
       "    }\n",
       "\n",
       "    .dataframe tbody tr th {\n",
       "        vertical-align: top;\n",
       "    }\n",
       "\n",
       "    .dataframe thead th {\n",
       "        text-align: right;\n",
       "    }\n",
       "</style>\n",
       "<table border=\"1\" class=\"dataframe\">\n",
       "  <thead>\n",
       "    <tr style=\"text-align: right;\">\n",
       "      <th></th>\n",
       "      <th>BIOSPECIMEN|ID</th>\n",
       "      <th>GENOMIC_FILE|URL_LIST</th>\n",
       "    </tr>\n",
       "  </thead>\n",
       "  <tbody>\n",
       "    <tr>\n",
       "      <th>0</th>\n",
       "      <td>S7</td>\n",
       "      <td>['foo/s7.txt']</td>\n",
       "    </tr>\n",
       "    <tr>\n",
       "      <th>1</th>\n",
       "      <td>S10</td>\n",
       "      <td>['foo/s10.txt']</td>\n",
       "    </tr>\n",
       "  </tbody>\n",
       "</table>\n",
       "</div>"
      ],
      "text/plain": [
       "  BIOSPECIMEN|ID GENOMIC_FILE|URL_LIST\n",
       "0             S7        ['foo/s7.txt']\n",
       "1            S10       ['foo/s10.txt']"
      ]
     },
     "execution_count": 81,
     "metadata": {},
     "output_type": "execute_result"
    }
   ],
   "source": [
    "sg"
   ]
  },
  {
   "cell_type": "code",
   "execution_count": 82,
   "metadata": {},
   "outputs": [
    {
     "data": {
      "text/html": [
       "<div>\n",
       "<style scoped>\n",
       "    .dataframe tbody tr th:only-of-type {\n",
       "        vertical-align: middle;\n",
       "    }\n",
       "\n",
       "    .dataframe tbody tr th {\n",
       "        vertical-align: top;\n",
       "    }\n",
       "\n",
       "    .dataframe thead th {\n",
       "        text-align: right;\n",
       "    }\n",
       "</style>\n",
       "<table border=\"1\" class=\"dataframe\">\n",
       "  <thead>\n",
       "    <tr style=\"text-align: right;\">\n",
       "      <th></th>\n",
       "      <th>BIOSPECIMEN|ID</th>\n",
       "      <th>PARTICIPANT|ID</th>\n",
       "      <th>FAMILY|ID</th>\n",
       "    </tr>\n",
       "  </thead>\n",
       "  <tbody>\n",
       "    <tr>\n",
       "      <th>0</th>\n",
       "      <td>S1</td>\n",
       "      <td>P1</td>\n",
       "      <td>F1</td>\n",
       "    </tr>\n",
       "    <tr>\n",
       "      <th>1</th>\n",
       "      <td>S2</td>\n",
       "      <td>P1</td>\n",
       "      <td>F1</td>\n",
       "    </tr>\n",
       "    <tr>\n",
       "      <th>2</th>\n",
       "      <td>S3</td>\n",
       "      <td>P3</td>\n",
       "      <td>F1</td>\n",
       "    </tr>\n",
       "    <tr>\n",
       "      <th>3</th>\n",
       "      <td>S4</td>\n",
       "      <td>P3</td>\n",
       "      <td></td>\n",
       "    </tr>\n",
       "    <tr>\n",
       "      <th>4</th>\n",
       "      <td>S5</td>\n",
       "      <td>P4</td>\n",
       "      <td>F2</td>\n",
       "    </tr>\n",
       "    <tr>\n",
       "      <th>5</th>\n",
       "      <td>S6</td>\n",
       "      <td>P5</td>\n",
       "      <td>F2</td>\n",
       "    </tr>\n",
       "    <tr>\n",
       "      <th>6</th>\n",
       "      <td>S7</td>\n",
       "      <td></td>\n",
       "      <td>F2</td>\n",
       "    </tr>\n",
       "    <tr>\n",
       "      <th>7</th>\n",
       "      <td>S8</td>\n",
       "      <td></td>\n",
       "      <td></td>\n",
       "    </tr>\n",
       "    <tr>\n",
       "      <th>8</th>\n",
       "      <td>S9</td>\n",
       "      <td>P9</td>\n",
       "      <td>F9</td>\n",
       "    </tr>\n",
       "  </tbody>\n",
       "</table>\n",
       "</div>"
      ],
      "text/plain": [
       "  BIOSPECIMEN|ID PARTICIPANT|ID FAMILY|ID\n",
       "0             S1             P1        F1\n",
       "1             S2             P1        F1\n",
       "2             S3             P3        F1\n",
       "3             S4             P3          \n",
       "4             S5             P4        F2\n",
       "5             S6             P5        F2\n",
       "6             S7                       F2\n",
       "7             S8                         \n",
       "8             S9             P9        F9"
      ]
     },
     "execution_count": 82,
     "metadata": {},
     "output_type": "execute_result"
    }
   ],
   "source": [
    "spf"
   ]
  },
  {
   "cell_type": "code",
   "execution_count": 83,
   "metadata": {},
   "outputs": [
    {
     "data": {
      "text/html": [
       "<div>\n",
       "<style scoped>\n",
       "    .dataframe tbody tr th:only-of-type {\n",
       "        vertical-align: middle;\n",
       "    }\n",
       "\n",
       "    .dataframe tbody tr th {\n",
       "        vertical-align: top;\n",
       "    }\n",
       "\n",
       "    .dataframe thead th {\n",
       "        text-align: right;\n",
       "    }\n",
       "</style>\n",
       "<table border=\"1\" class=\"dataframe\">\n",
       "  <thead>\n",
       "    <tr style=\"text-align: right;\">\n",
       "      <th></th>\n",
       "      <th>BIOSPECIMEN|ID</th>\n",
       "      <th>PARTICIPANT|ID</th>\n",
       "      <th>FAMILY|ID</th>\n",
       "    </tr>\n",
       "  </thead>\n",
       "  <tbody>\n",
       "    <tr>\n",
       "      <th>0</th>\n",
       "      <td>S7</td>\n",
       "      <td>P5</td>\n",
       "      <td>F2</td>\n",
       "    </tr>\n",
       "    <tr>\n",
       "      <th>1</th>\n",
       "      <td></td>\n",
       "      <td>P6</td>\n",
       "      <td>F3</td>\n",
       "    </tr>\n",
       "    <tr>\n",
       "      <th>2</th>\n",
       "      <td>S2</td>\n",
       "      <td>P2</td>\n",
       "      <td>F1</td>\n",
       "    </tr>\n",
       "  </tbody>\n",
       "</table>\n",
       "</div>"
      ],
      "text/plain": [
       "  BIOSPECIMEN|ID PARTICIPANT|ID FAMILY|ID\n",
       "0             S7             P5        F2\n",
       "1                            P6        F3\n",
       "2             S2             P2        F1"
      ]
     },
     "execution_count": 83,
     "metadata": {},
     "output_type": "execute_result"
    }
   ],
   "source": [
    "spf2"
   ]
  },
  {
   "cell_type": "code",
   "execution_count": 84,
   "metadata": {},
   "outputs": [],
   "source": [
    "def df_to_graph(G, df):\n",
    "    columns = df.columns.values\n",
    "    for index, row in df.iterrows():\n",
    "        row_list = list(row)\n",
    "        for i, item in enumerate(row_list[:-1]):\n",
    "            left_node = {\n",
    "                \"type\": columns[i],\n",
    "                \"ID\": item\n",
    "            }\n",
    "            \n",
    "            right_node = {\n",
    "                \"type\": columns[i + 1],\n",
    "                \"ID\": row_list[i + 1]\n",
    "            }\n",
    "            \n",
    "            if left_node[\"ID\"] not in G.nodes:\n",
    "                G.add_node(left_node[\"ID\"])\n",
    "                G.nodes[left_node[\"ID\"]][\"type\"] = left_node[\"type\"]\n",
    "            if right_node[\"ID\"] not in G.nodes:\n",
    "                G.add_node(right_node[\"ID\"])\n",
    "                G.nodes[right_node[\"ID\"]][\"type\"] = right_node[\"type\"]\n",
    "                \n",
    "            G.add_edge(left_node[\"ID\"], right_node[\"ID\"])"
   ]
  },
  {
   "cell_type": "code",
   "execution_count": 85,
   "metadata": {},
   "outputs": [],
   "source": [
    "G = nx.Graph()\n",
    "for df in data_files:\n",
    "    df_to_graph(G, df)"
   ]
  },
  {
   "cell_type": "code",
   "execution_count": 86,
   "metadata": {},
   "outputs": [
    {
     "data": {
      "image/png": "[encoded data removed]",
      "text/plain": [
       "<Figure size 1152x720 with 1 Axes>"
      ]
     },
     "metadata": {},
     "output_type": "display_data"
    }
   ],
   "source": [
    "plt.figure(figsize=(16,10))\n",
    "nx.draw(G, with_labels=True)"
   ]
  },
  {
   "cell_type": "markdown",
   "metadata": {},
   "source": [
    "So here we have major clumping. This is because patients in the same family are connected, so all their associated biospecimens and files and stuff will get connected as well. When creating the edges we need to make family nodes a special case. Also need to figure out how to handle `nan`s. "
   ]
  },
  {
   "cell_type": "code",
   "execution_count": 87,
   "metadata": {},
   "outputs": [],
   "source": [
    "FAMILY_ID = \"FAMILY|ID\"\n",
    "\n",
    "class Node(object):\n",
    "    def __init__(self, node_type, data):\n",
    "        self.type = node_type\n",
    "        self.data = data\n",
    "        self.family = self.type == FAMILY_ID\n",
    "        self.visible = bool(self.data)\n",
    "        "
   ]
  },
  {
   "cell_type": "code",
   "execution_count": 131,
   "metadata": {},
   "outputs": [],
   "source": [
    "participants, biospecimens = [], []\n",
    "\n",
    "def new_df_to_graph(G, df):\n",
    "    columns = df.columns.values\n",
    "    for index, row in df.iterrows():\n",
    "        row_list = list(row)\n",
    "        for i, item in enumerate(row_list[:-1]):\n",
    "            \n",
    "            left_node = Node(node_type=columns[i], data=item)\n",
    "            right_node = Node(\n",
    "                node_type=columns[i + 1],\n",
    "                data=row_list[i + 1]\n",
    "            )\n",
    "            \n",
    "            for node in (left_node, right_node):\n",
    "                if node.type == \"PARTICIPANT|ID\":\n",
    "                    participants.append(node.data)\n",
    "                elif node.type == \"BIOSPECIMEN|ID\":\n",
    "                    biospecimens.append(node.data)\n",
    "\n",
    "            if left_node.visible:\n",
    "                G.add_node(left_node.data, type=left_node.type, file=df.name)\n",
    "            if right_node.visible:\n",
    "                G.add_node(right_node.data, type=right_node.type, file=df.name)\n",
    "                \n",
    "            if left_node.visible and right_node.visible:\n",
    "                G.add_edge(left_node.data, right_node.data)"
   ]
  },
  {
   "cell_type": "code",
   "execution_count": 108,
   "metadata": {},
   "outputs": [],
   "source": [
    "# The graph we've created temporarily is wrong, because including family IDs as nodes leads to a lot of connections\n",
    "# that we don't want in the end. But it's necessary to get all familyID-participantID links, including those that are\n",
    "# indirect. We need to store this data in an auxillary data structure, update the participant nodes with their \n",
    "# familyID (if they have one) for easy lookup later, then clip the familyID nodes.\n",
    "\n",
    "# Things get weird if a participant is a member of more than one family (which is allowed). In order\n",
    "# to handle this, we need to take each connected subcomponent and split them up further into connected\n",
    "# subcomponents for each family unit. This can be done by iterating over the family ID nodes and deleting\n",
    "# all other family ID nodes in the subcomponent.\n",
    "\n",
    "def record_family(G):\n",
    "    family_dict = {}\n",
    "    subgraphs = list(nx.connected_components(G))\n",
    "    for subgraph in subgraphs:\n",
    "        families, participants = [], []\n",
    "        # Collect family and participant nodes\n",
    "        for node in subgraph:\n",
    "            node_type = G.nodes[node][\"type\"]\n",
    "            if node_type == \"PARTICIPANT|ID\":\n",
    "                participants.append(node)\n",
    "            elif node_type == FAMILY_ID:\n",
    "                families.append(node)\n",
    "                \n",
    "        # Iterate over family nodes and create subcomponents representing them individually \n",
    "        for familyID in families:\n",
    "            subG = G.subgraph(subgraph)\n",
    "            other_fams = list(families)\n",
    "            other_fams.remove(familyID)\n",
    "            # Delete the other family ID nodes\n",
    "            for other_fam in other_fams:\n",
    "                subG.remove_node(other_fam)\n",
    "            \n",
    "            sub_parts = []\n",
    "            for node in subG.nodes():\n",
    "                if node in participants:\n",
    "                    sub_parts.append(node)\n",
    "                    if \"family\" not in G.nodes[node]:\n",
    "                        G.nodes[node][\"family\"] = []\n",
    "                    G.nodes[node][\"family\"].append(familyID)\n",
    "\n",
    "            family_dict[familyID] = {\n",
    "                \"participants\": sub_parts,\n",
    "                \"file\": G.nodes[familyID][\"file\"]\n",
    "            }\n",
    "            \n",
    "        # Finally remove the family nodes in this subgraph from the total graph\n",
    "        for familyID in families:\n",
    "            G.remove_node(familyID)\n",
    "            \n",
    "    return family_dict      "
   ]
  },
  {
   "cell_type": "code",
   "execution_count": 109,
   "metadata": {},
   "outputs": [
    {
     "name": "stdout",
     "output_type": "stream",
     "text": [
      "{'P10', 'F10', \"['foo/s11.txt']\", 'S11'}\n"
     ]
    },
    {
     "data": {
      "image/png": "[encoded data removed]",
      "text/plain": [
       "<Figure size 432x288 with 1 Axes>"
      ]
     },
     "metadata": {},
     "output_type": "display_data"
    }
   ],
   "source": [
    "component = list(nx.connected_components(G))[0]\n",
    "print(component)\n",
    "nx.draw(G.subgraph(component), with_labels=True)"
   ]
  },
  {
   "cell_type": "code",
   "execution_count": 110,
   "metadata": {},
   "outputs": [],
   "source": [
    "G = nx.Graph()\n",
    "for df in data_files:\n",
    "    new_df_to_graph(G, df)\n",
    "    \n",
    "family_dict = record_family(G)"
   ]
  },
  {
   "cell_type": "code",
   "execution_count": 111,
   "metadata": {},
   "outputs": [
    {
     "data": {
      "image/png": "[encoded data removed]",
      "text/plain": [
       "<Figure size 1152x720 with 1 Axes>"
      ]
     },
     "metadata": {},
     "output_type": "display_data"
    }
   ],
   "source": [
    "plt.figure(figsize=(16,10))\n",
    "nx.draw(G, with_labels=True)"
   ]
  },
  {
   "cell_type": "code",
   "execution_count": 112,
   "metadata": {},
   "outputs": [
    {
     "data": {
      "text/plain": [
       "{'F10': {'participants': ['P10'], 'file': 'data1/pf.csv'},\n",
       " 'F12': {'participants': [], 'file': 'data1/pf.csv'},\n",
       " 'F13': {'participants': ['P13'], 'file': 'data1/pf.csv'},\n",
       " 'F2': {'participants': ['P5', 'P4'], 'file': 'data1/sfp2.csv'},\n",
       " 'F9': {'participants': ['P9'], 'file': 'data1/spf.csv'},\n",
       " 'F3': {'participants': ['P6'], 'file': 'data1/sfp2.csv'},\n",
       " 'F1': {'participants': ['P3', 'P2', 'P1'], 'file': 'data1/sfp2.csv'}}"
      ]
     },
     "execution_count": 112,
     "metadata": {},
     "output_type": "execute_result"
    }
   ],
   "source": [
    "family_dict"
   ]
  },
  {
   "cell_type": "code",
   "execution_count": 113,
   "metadata": {},
   "outputs": [
    {
     "data": {
      "text/plain": [
       "['F1']"
      ]
     },
     "execution_count": 113,
     "metadata": {},
     "output_type": "execute_result"
    }
   ],
   "source": [
    "G.nodes['P3']['family']"
   ]
  },
  {
   "cell_type": "code",
   "execution_count": 114,
   "metadata": {},
   "outputs": [],
   "source": [
    "# Now process the family relationships, then prune the associated nodes to make the tests easier\n",
    "# Things get weird if a participant is a member of more than one family (which is allowed). In order\n",
    "# to handle this, we need to take each connected subcomponent and split them up further into connected\n",
    "# subcomponents for each family unit. This can be done by iterating over the family ID nodes and deleting\n",
    "# all other family ID nodes in the subcomponent.\n"
   ]
  },
  {
   "cell_type": "code",
   "execution_count": 115,
   "metadata": {},
   "outputs": [],
   "source": [
    "def check_relationship_2(G):\n",
    "    \"\"\"\n",
    "    Takes in a connected subgraph (which hopefully represents a single patient and their associated data),\n",
    "    and checks for the 2nd relationship as defined in notion. This relationship is that a Specimen comes from 1\n",
    "    Participant. Returns a bool representing this check.\n",
    "    \"\"\"\n",
    "    subgraphs = list(nx.connected_components(G))\n",
    "    for subgraph in subgraphs:\n",
    "        for index in subgraph:\n",
    "            node = G.nodes[index]\n",
    "            # In order to differentiate between bad specimens and bad genomic files we need to examine each biospecimens edges\n",
    "            num_parts = 0\n",
    "            \n",
    "            if node[\"type\"] == \"BIOSPECIMEN|ID\":            \n",
    "                for edge in G.edges(index):\n",
    "                    if G.nodes[edge[1]][\"type\"] == \"PARTICIPANT|ID\":\n",
    "                        num_parts += 1\n",
    "\n",
    "                if num_parts > 1:\n",
    "                    return False\n",
    "    return True\n",
    "            "
   ]
  },
  {
   "cell_type": "code",
   "execution_count": 116,
   "metadata": {},
   "outputs": [],
   "source": [
    "def subgraph_counts(G):\n",
    "    \"\"\"\n",
    "    Given graph G counts the number of each type of node in each connected sub-component.\n",
    "    These counts can be used to easily perform the validation tests.\n",
    "    \"\"\"\n",
    "    subgraphs = list(nx.connected_components(G))\n",
    "    types = {}\n",
    "    for subgraph in subgraphs:\n",
    "        sub_dict = {\n",
    "            \"PARTICIPANT|ID\": [],\n",
    "            \"GENOMIC_FILE|URL_LIST\": [],\n",
    "            \"BIOSPECIMEN|ID\": []\n",
    "        }\n",
    "        \n",
    "        for index in subgraph:\n",
    "            node = G.nodes[index]\n",
    "            sub_dict[node[\"type\"]].append(index)\n",
    "            \n",
    "        types[tuple(subgraph)] = sub_dict\n",
    "            \n",
    "    return types"
   ]
  },
  {
   "cell_type": "code",
   "execution_count": 117,
   "metadata": {},
   "outputs": [
    {
     "name": "stdout",
     "output_type": "stream",
     "text": [
      "{('P10', \"['foo/s11.txt']\", 'S11'): {'BIOSPECIMEN|ID': ['S11'],\n",
      "                                     'GENOMIC_FILE|URL_LIST': [\"['foo/s11.txt']\"],\n",
      "                                     'PARTICIPANT|ID': ['P10']},\n",
      " ('P11',): {'BIOSPECIMEN|ID': [],\n",
      "            'GENOMIC_FILE|URL_LIST': [],\n",
      "            'PARTICIPANT|ID': ['P11']},\n",
      " ('P13',): {'BIOSPECIMEN|ID': [],\n",
      "            'GENOMIC_FILE|URL_LIST': [],\n",
      "            'PARTICIPANT|ID': ['P13']},\n",
      " ('P2', 'S1', 'P1', 'S2'): {'BIOSPECIMEN|ID': ['S1', 'S2'],\n",
      "                            'GENOMIC_FILE|URL_LIST': [],\n",
      "                            'PARTICIPANT|ID': ['P2', 'P1']},\n",
      " ('P9', 'S9', \"['foo/s9.txt']\"): {'BIOSPECIMEN|ID': ['S9'],\n",
      "                                  'GENOMIC_FILE|URL_LIST': [\"['foo/s9.txt']\"],\n",
      "                                  'PARTICIPANT|ID': ['P9']},\n",
      " ('S10', 'P6', \"['foo/s10.txt']\"): {'BIOSPECIMEN|ID': ['S10'],\n",
      "                                    'GENOMIC_FILE|URL_LIST': [\"['foo/s10.txt']\"],\n",
      "                                    'PARTICIPANT|ID': ['P6']},\n",
      " ('S4', 'S3', 'P3'): {'BIOSPECIMEN|ID': ['S4', 'S3'],\n",
      "                      'GENOMIC_FILE|URL_LIST': [],\n",
      "                      'PARTICIPANT|ID': ['P3']},\n",
      " ('S5', \"['foo/s5.txt']\", 'P4'): {'BIOSPECIMEN|ID': ['S5'],\n",
      "                                  'GENOMIC_FILE|URL_LIST': [\"['foo/s5.txt']\"],\n",
      "                                  'PARTICIPANT|ID': ['P4']},\n",
      " ('S7', 'P5', \"['foo/s7.txt']\", 'S6'): {'BIOSPECIMEN|ID': ['S7', 'S6'],\n",
      "                                        'GENOMIC_FILE|URL_LIST': [\"['foo/s7.txt']\"],\n",
      "                                        'PARTICIPANT|ID': ['P5']},\n",
      " ('S8',): {'BIOSPECIMEN|ID': ['S8'],\n",
      "           'GENOMIC_FILE|URL_LIST': [],\n",
      "           'PARTICIPANT|ID': []}}\n"
     ]
    }
   ],
   "source": [
    "types = subgraph_counts(G)\n",
    "pprint(types)"
   ]
  },
  {
   "cell_type": "code",
   "execution_count": 118,
   "metadata": {},
   "outputs": [],
   "source": [
    "def new_check_relationship_2(types):\n",
    "    bad_biospecimens = []\n",
    "    for component in types:\n",
    "        if types[component][\"BIOSPECIMEN|ID\"]:\n",
    "            if len(types[component][\"PARTICIPANT|ID\"]) != 1:\n",
    "                bad_biospecimens.extend(types[component][\"BIOSPECIMEN|ID\"])\n",
    "            \n",
    "    return bad_biospecimens\n",
    "        "
   ]
  },
  {
   "cell_type": "code",
   "execution_count": 119,
   "metadata": {},
   "outputs": [
    {
     "data": {
      "text/plain": [
       "['S1', 'S2', 'S8']"
      ]
     },
     "execution_count": 119,
     "metadata": {},
     "output_type": "execute_result"
    }
   ],
   "source": [
    "new_check_relationship_2(types)"
   ]
  },
  {
   "cell_type": "code",
   "execution_count": 120,
   "metadata": {},
   "outputs": [],
   "source": [
    "def check_relationship_3(types):\n",
    "    \"\"\"\n",
    "    A Participant is linked to at least 1 Specimen\n",
    "    \"\"\"\n",
    "    bad_participants = []\n",
    "    for component in types:\n",
    "        if types[component][\"PARTICIPANT|ID\"]:\n",
    "            if not types[component][\"BIOSPECIMEN|ID\"]:\n",
    "                bad_participants.extend(types[component][\"PARTICIPANT|ID\"])\n",
    "            \n",
    "    return bad_participants"
   ]
  },
  {
   "cell_type": "code",
   "execution_count": 121,
   "metadata": {},
   "outputs": [
    {
     "data": {
      "text/plain": [
       "['P11', 'P13']"
      ]
     },
     "execution_count": 121,
     "metadata": {},
     "output_type": "execute_result"
    }
   ],
   "source": [
    "check_relationship_3(types)"
   ]
  },
  {
   "cell_type": "code",
   "execution_count": 122,
   "metadata": {},
   "outputs": [],
   "source": [
    "def check_relationship_5(types):\n",
    "    \"\"\"\n",
    "    A Source Seq File Manifest Record is linked to exactly 1 Specimen\n",
    "    \"\"\"\n",
    "    bad_seq_files = []\n",
    "    for component in types:\n",
    "        if types[component][\"GENOMIC_FILE|URL_LIST\"]:\n",
    "            if not types[component][\"BIOSPECIMEN|ID\"]:\n",
    "                bad_seq_files.extend(types[component][\"GENOMIC_FILE|URL_LIST\"])\n",
    "                \n",
    "    return bad_seq_files\n",
    "    "
   ]
  },
  {
   "cell_type": "code",
   "execution_count": 123,
   "metadata": {},
   "outputs": [
    {
     "data": {
      "text/plain": [
       "[]"
      ]
     },
     "execution_count": 123,
     "metadata": {},
     "output_type": "execute_result"
    }
   ],
   "source": [
    "check_relationship_5(types)"
   ]
  },
  {
   "cell_type": "code",
   "execution_count": 124,
   "metadata": {},
   "outputs": [],
   "source": [
    "def check_relationship_7(G, types):\n",
    "    \"\"\"\n",
    "    A Participant is in at least 1 Family Group\n",
    "    \"\"\"\n",
    "    participants = [\n",
    "        part\n",
    "        for component in types\n",
    "        for part in types[component][\"PARTICIPANT|ID\"]\n",
    "    ]\n",
    "    \n",
    "    bad_parts = []\n",
    "    for part in participants:\n",
    "        if \"family\" not in G.nodes[part]:\n",
    "            bad_parts.append(part)\n",
    "            \n",
    "    return bad_parts"
   ]
  },
  {
   "cell_type": "code",
   "execution_count": 125,
   "metadata": {},
   "outputs": [
    {
     "data": {
      "text/plain": [
       "['P11']"
      ]
     },
     "execution_count": 125,
     "metadata": {},
     "output_type": "execute_result"
    }
   ],
   "source": [
    "check_relationship_7(G, types)"
   ]
  },
  {
   "cell_type": "code",
   "execution_count": 68,
   "metadata": {},
   "outputs": [
    {
     "data": {
      "text/plain": [
       "{'type': 'PARTICIPANT|ID', 'family': 'F10'}"
      ]
     },
     "execution_count": 68,
     "metadata": {},
     "output_type": "execute_result"
    }
   ],
   "source": [
    "G.nodes['P10']"
   ]
  },
  {
   "cell_type": "code",
   "execution_count": 129,
   "metadata": {},
   "outputs": [],
   "source": [
    "def check_relationship_8(family_dict):\n",
    "    \"\"\"\n",
    "    A Family Group has at least 1 Participants\n",
    "    \"\"\"\n",
    "    bad_families = []\n",
    "    for family in family_dict:\n",
    "        if not family_dict[family][\"participants\"]:\n",
    "            bad_families.append(family)\n",
    "            \n",
    "    return bad_families\n",
    "    \n",
    "    "
   ]
  },
  {
   "cell_type": "code",
   "execution_count": 130,
   "metadata": {},
   "outputs": [
    {
     "data": {
      "text/plain": [
       "['F12']"
      ]
     },
     "execution_count": 130,
     "metadata": {},
     "output_type": "execute_result"
    }
   ],
   "source": [
    "check_relationship_8(family_dict)"
   ]
  },
  {
   "cell_type": "code",
   "execution_count": null,
   "metadata": {},
   "outputs": [],
   "source": [
    "def test_validate(name, errors, condition = None):\n",
    "    "
   ]
  }
 ],
 "metadata": {
  "kernelspec": {
   "display_name": "Python 3",
   "language": "python",
   "name": "python3"
  },
  "language_info": {
   "codemirror_mode": {
    "name": "ipython",
    "version": 3
   },
   "file_extension": ".py",
   "mimetype": "text/x-python",
   "name": "python",
   "nbconvert_exporter": "python",
   "pygments_lexer": "ipython3",
   "version": "3.7.7"
  }
 },
 "nbformat": 4,
 "nbformat_minor": 4
}
